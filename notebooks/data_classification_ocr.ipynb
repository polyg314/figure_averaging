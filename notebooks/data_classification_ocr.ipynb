{
 "cells": [
  {
   "cell_type": "code",
   "execution_count": 1,
   "metadata": {},
   "outputs": [],
   "source": [
    "import pandas as pd \n",
    "from PIL import Image\n",
    "import pytesseract"
   ]
  },
  {
   "cell_type": "code",
   "execution_count": 2,
   "metadata": {},
   "outputs": [
    {
     "name": "stdout",
     "output_type": "stream",
     "text": [
      "Images reclassified: 0\n",
      "Images reclassified: 1\n"
     ]
    }
   ],
   "source": [
    "for year in range(2021, 2023):\n",
    "   \n",
    "    # Load the Excel file into a DataFrame\n",
    "    cropped_and_labeled_df = pd.read_excel(f\"../cropped_and_labeled_image_data/{year}_cropped_and_labeled_figs.xlsx\")\n",
    "\n",
    "    count = 0\n",
    "    # Loop through rows and check for 'none selected'\n",
    "    for index, row in cropped_and_labeled_df.iterrows():\n",
    "        if row[\"subcategory\"] in [\"process diagram\", \"conceptual diagram\", \"data structure\"]:\n",
    "                # Use OCR to extract text\n",
    "                ocr_config = r'--oem 3 --psm 6'\n",
    "\n",
    "                # Increase DPI of the image\n",
    "                zoom_x = 2 # horizontal zoom\n",
    "                zoom_y = 2  # vertical zoom\n",
    "\n",
    "                # Open the image with PIL\n",
    "                img_0 = Image.open(\"../\" + row[\"new image path\"])\n",
    "\n",
    "                # Rotate the image 90 degrees clockwise\n",
    "\n",
    "                # Get text from images\n",
    "                text = pytesseract.image_to_string(img_0, config=ocr_config).lower()\n",
    "\n",
    "                # Find the position of 'figure' in the text\n",
    "                pos = text.find(\"figure\")\n",
    "\n",
    "                if pos != -1:\n",
    "                    # Calculate the start position for slicing\n",
    "                    start_pos = pos + len(\"figure\")\n",
    "                    \n",
    "                    # Get the next 300 characters after 'figure'\n",
    "                    following_text = text[start_pos:start_pos + 150]\n",
    "                    following_text = following_text.replace(\"  \", \" \")\n",
    "                    # List of terms to check\n",
    "                    terms = [\"data collection\", \"data analysis\", \"data display\"]\n",
    "\n",
    "                    # Check if any of the terms is in the following_text\n",
    "                    if any(term in following_text for term in terms):\n",
    "                        # print(following_text)\n",
    "                        cropped_and_labeled_df.iloc[index, cropped_and_labeled_df.columns.get_loc('subcategory')] = \"data collection, data analysis, data gathering diagrams\"\n",
    "                        count = count + 1\n",
    "\n",
    "    print(f'Images reclassified: {count}')\n",
    "    cropped_and_labeled_df.to_excel(f\"../cropped_and_labeled_image_data/{year}_cropped_and_labeled_figs.xlsx\", index=False)"
   ]
  },
  {
   "cell_type": "code",
   "execution_count": 3,
   "metadata": {},
   "outputs": [
    {
     "name": "stdout",
     "output_type": "stream",
     "text": [
      "Images reclassified: 2\n",
      "Images reclassified: 3\n"
     ]
    }
   ],
   "source": [
    "for year in range(2021, 2023):\n",
    "   \n",
    "    # Load the Excel file into a DataFrame\n",
    "    cropped_and_labeled_df = pd.read_excel(f\"../cropped_and_labeled_image_data/{year}_cropped_and_labeled_figs.xlsx\")\n",
    "\n",
    "    count = 0\n",
    "    # Loop through rows and check for 'none selected'\n",
    "    for index, row in cropped_and_labeled_df.iterrows():\n",
    "        if row[\"subcategory\"] in [\"data structure\"]:\n",
    "                # Use OCR to extract text\n",
    "                ocr_config = r'--oem 3 --psm 6'\n",
    "\n",
    "                # Increase DPI of the image\n",
    "                zoom_x = 2 # horizontal zoom\n",
    "                zoom_y = 2  # vertical zoom\n",
    "\n",
    "                # Open the image with PIL\n",
    "                img_0 = Image.open(\"../\" + row[\"new image path\"])\n",
    "\n",
    "                # Rotate the image 90 degrees clockwise\n",
    "\n",
    "                # Get text from images\n",
    "                text = pytesseract.image_to_string(img_0, config=ocr_config).lower()\n",
    "\n",
    "                # Find the position of 'figure' in the text\n",
    "                pos = text.find(\"figure\")\n",
    "\n",
    "                if pos != -1:\n",
    "                    # Calculate the start position for slicing\n",
    "                    start_pos = pos + len(\"figure\")\n",
    "                    \n",
    "                    # Get the next 300 characters after 'figure'\n",
    "                    following_text = text[start_pos:start_pos + 150]\n",
    "                    following_text = following_text.replace(\"  \", \" \")\n",
    "                    # List of terms to check\n",
    "                    # Check if any of the terms is in the following_text\n",
    "                    if \"structure\" not in following_text:\n",
    "                        # print(following_text)\n",
    "                        cropped_and_labeled_df.iloc[index, cropped_and_labeled_df.columns.get_loc('subcategory')] = \"data display\"\n",
    "                        count = count + 1\n",
    "\n",
    "    print(f'Images reclassified: {count}')\n",
    "    cropped_and_labeled_df.to_excel(f\"../cropped_and_labeled_image_data/{year}_cropped_and_labeled_figs.xlsx\", index=False)"
   ]
  }
 ],
 "metadata": {
  "kernelspec": {
   "display_name": "Python 3",
   "language": "python",
   "name": "python3"
  },
  "language_info": {
   "codemirror_mode": {
    "name": "ipython",
    "version": 3
   },
   "file_extension": ".py",
   "mimetype": "text/x-python",
   "name": "python",
   "nbconvert_exporter": "python",
   "pygments_lexer": "ipython3",
   "version": "3.9.18"
  }
 },
 "nbformat": 4,
 "nbformat_minor": 2
}

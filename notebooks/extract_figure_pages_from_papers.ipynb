{
 "cells": [
  {
   "cell_type": "code",
   "execution_count": 1,
   "metadata": {},
   "outputs": [],
   "source": [
    "import fitz  # PyMuPDF\n",
    "import pytesseract\n",
    "from PIL import Image\n",
    "import io\n",
    "import pandas as pd\n",
    "import os\n",
    "import cv2\n",
    "import numpy as np"
   ]
  },
  {
   "cell_type": "markdown",
   "metadata": {},
   "source": [
    "## Extract and Track Figure Pages"
   ]
  },
  {
   "cell_type": "code",
   "execution_count": 2,
   "metadata": {},
   "outputs": [],
   "source": [
    "def isolate_figure(img, output_path=None, page_num=0, save_full_page=False):\n",
    "    # Convert PIL image to OpenCV format\n",
    "    open_cv_image = cv2.cvtColor(np.array(img), cv2.COLOR_RGB2BGR)\n",
    "    \n",
    "    # Convert image to grayscale\n",
    "    gray = cv2.cvtColor(open_cv_image, cv2.COLOR_BGR2GRAY)\n",
    "    \n",
    "    # Apply Gaussian Blur to reduce noise\n",
    "    blurred = cv2.GaussianBlur(gray, (5, 5), 0)\n",
    "    \n",
    "    # Apply adaptive thresholding\n",
    "    thresh = cv2.adaptiveThreshold(blurred, 255, cv2.ADAPTIVE_THRESH_GAUSSIAN_C, cv2.THRESH_BINARY_INV, 11, 2)\n",
    "    \n",
    "    # Find contours\n",
    "    contours, _ = cv2.findContours(thresh, cv2.RETR_EXTERNAL, cv2.CHAIN_APPROX_SIMPLE)\n",
    "    \n",
    "    # Filter contours based on area size to avoid small noise\n",
    "    filtered_contours = [cnt for cnt in contours if cv2.contourArea(cnt) > 5000]  # Adjust the area threshold as needed\n",
    "\n",
    "    if filtered_contours:\n",
    "        # Get the bounding box for the largest contour\n",
    "        largest_contour = max(filtered_contours, key=cv2.contourArea)\n",
    "        x, y, w, h = cv2.boundingRect(largest_contour)\n",
    "        figure_img = open_cv_image[y:y+h, x:x+w]\n",
    "\n",
    "        # Draw bounding box on the image for visualization\n",
    "        cv2.rectangle(open_cv_image, (x, y), (x+w, y+h), (0, 255, 0), 2)\n",
    "\n",
    "        # Save the image with bounding boxes if output_path is provided\n",
    "        if save_full_page and output_path:\n",
    "            print(\"SAVING CONTOURS\")\n",
    "            cv2.imwrite(output_path, open_cv_image)\n",
    "\n",
    "        return Image.fromarray(cv2.cvtColor(figure_img, cv2.COLOR_BGR2RGB))\n",
    "    \n",
    "    # Return None if no significant figure is found\n",
    "    return None\n",
    "\n"
   ]
  },
  {
   "cell_type": "code",
   "execution_count": 3,
   "metadata": {},
   "outputs": [],
   "source": [
    "\n",
    "# This is a placeholder function. Replace it with actual logic to process figures.\n",
    "def extract_figures_with_ocr(pdf_path, extracted_figures_path, year):\n",
    "    # Use OCR to extract text\n",
    "    ocr_config = r'--oem 3 --psm 6'\n",
    "    doc = fitz.open(pdf_path)\n",
    "    saved_figures = []\n",
    "    for page_num, page in enumerate(doc):\n",
    "\n",
    "        if(page_num == 14):\n",
    "            # Increase DPI of the image\n",
    "            zoom_x = 2.0  # horizontal zoom\n",
    "            zoom_y = 2.0  # vertical zoom\n",
    "            mat = fitz.Matrix(zoom_x, zoom_y)  # zoom factor 2 in each dimension\n",
    "\n",
    "            # Render the page into an image using the zoom matrix\n",
    "            pix = page.get_pixmap(matrix=mat)\n",
    "\n",
    "            # Open the image with PIL\n",
    "            img_0 = Image.open(io.BytesIO(pix.tobytes(\"ppm\")))\n",
    "            # Rotate the image 90 degrees clockwise\n",
    "            img_m_90 = img_0.rotate(-90, expand=True)  # Use expand=True to resize the image to fit the new orientation\n",
    "            img_p_90 = img_0.rotate(90, expand=True)  # Use expand=True to resize the image to fit the new orientation\n",
    "\n",
    "            # Get text from images\n",
    "            text_0 = pytesseract.image_to_string(img_0, config=ocr_config)\n",
    "            text_m_90 = pytesseract.image_to_string(img_m_90, config=ocr_config)\n",
    "            text_p_90 = pytesseract.image_to_string(img_p_90, config=ocr_config)\n",
    "            \n",
    "            for i in range(1, 6):\n",
    "                figure_keywords = [f'Figure {i}']\n",
    "                saved = False\n",
    "                figure_name = f\"F{i}_{os.path.splitext(os.path.basename(pdf_path))[0]}.png\"\n",
    "                rotation = 0\n",
    "                if(any(substring in text_0 for substring in figure_keywords)):\n",
    "                    isolated_figure = isolate_figure(img_0, output_path=extracted_figures_path +\"/\" + str(year) + \"/BB\" + figure_name, page_num=page_num, save_full_page=True)\n",
    "                    if(isolated_figure):\n",
    "                        isolated_figure.save(extracted_figures_path +\"/\" + str(year) + \"/\" + figure_name)\n",
    "                        img_0.save(extracted_figures_path +\"/\" + str(year) + \"/P\" + figure_name)\n",
    "                        saved = True\n",
    "                elif(any(substring in text_m_90 for substring in figure_keywords)):\n",
    "                    img_m_90.save(extracted_figures_path +\"/\" + str(year) + \"/\" + figure_name)\n",
    "                    saved = True\n",
    "                    rotation = -90\n",
    "                elif (any(substring in text_p_90 for substring in figure_keywords)):\n",
    "                    img_p_90.save(extracted_figures_path +\"/\" + str(year) + \"/\" + figure_name)\n",
    "                    saved = True\n",
    "                    rotation = 90 \n",
    "                if(saved):\n",
    "                    print(f\"Saved {figure_name} from {pdf_path}\")\n",
    "                    saved_figures.append({\n",
    "                        \"figure_name\" : figure_name, \n",
    "                        \"figure_number\": i,\n",
    "                        \"page_number\": page_num + 1,\n",
    "                        \"image_rotation\": rotation\n",
    "                    })\n",
    "                    \n",
    "    return saved_figures\n",
    "\n"
   ]
  },
  {
   "cell_type": "code",
   "execution_count": 4,
   "metadata": {},
   "outputs": [
    {
     "name": "stdout",
     "output_type": "stream",
     "text": [
      "processing ../papers_by_year/2010/Azoulay et al._2010_ASQ_Nasty Brutish and Short - Embeddedness Failure in the Pharma Industry.pdf\n"
     ]
    }
   ],
   "source": [
    "# Define the directory to process\n",
    "extracted_figures_dir = '../extracted_figures'\n",
    "\n",
    "# List to hold data for the DataFrame\n",
    "figure_data = []\n",
    "papers_with_no_identified_figures = []\n",
    "\n",
    "for year in range(2010,2011): \n",
    "    paper_year_dir = f'../papers_by_year/{year}'\n",
    "    figure_year_dir = f'{extracted_figures_dir}/{year}'\n",
    "    # Loop through all files in the directory\n",
    "    test_files =  [\n",
    "            \"../papers_by_year/2010/Azoulay et al._2010_ASQ_Nasty Brutish and Short - Embeddedness Failure in the Pharma Industry.pdf\", \n",
    "            # \"../papers_by_year/2010/Bresman_2010_OrgSci_Explaining Employee Engagement with Strategic Change.pdf\"\n",
    "            ]\n",
    "    \n",
    "    for paper_file in os.listdir(paper_year_dir):\n",
    "        paper_path = os.path.join(paper_year_dir, paper_file)\n",
    "\n",
    "        ## make year directory in extracted figures folder if needed\n",
    "        os.makedirs(figure_year_dir, exist_ok=True)\n",
    "\n",
    "        if os.path.isfile(paper_path) and paper_path in test_files:\n",
    "            print(f'processing {paper_path}')\n",
    "            # Extract figures from the paper\n",
    "            figures =  extract_figures_with_ocr(paper_path, extracted_figures_dir, year)\n",
    "            # Process each figure\n",
    "            for figure_info in figures:\n",
    "                figure_data.append({\n",
    "                    'original paper': paper_file,\n",
    "                    'figure name': figure_info[\"figure_name\"],\n",
    "                    'figure number': figure_info[\"figure_number\"], \n",
    "                    'year': year, \n",
    "                    'page number': figure_info[\"page_number\"],\n",
    "                    'image rotation': figure_info[\"image_rotation\"]\n",
    "                })\n",
    "\n",
    "            if(len(figures) == 0):\n",
    "                papers_with_no_identified_figures.append({\n",
    "                    'original paper': paper_file,\n",
    "                    'year': year\n",
    "                })\n",
    "\n",
    "# Create DataFrames\n",
    "figures_df = pd.DataFrame(figure_data, columns=['original paper', 'figure name', 'figure number', 'year', 'page number', 'image rotation'])\n",
    "no_figures_df = pd.DataFrame(figure_data, columns=['original paper', 'year'])\n"
   ]
  },
  {
   "cell_type": "code",
   "execution_count": 5,
   "metadata": {},
   "outputs": [
    {
     "data": {
      "text/html": [
       "<div>\n",
       "<style scoped>\n",
       "    .dataframe tbody tr th:only-of-type {\n",
       "        vertical-align: middle;\n",
       "    }\n",
       "\n",
       "    .dataframe tbody tr th {\n",
       "        vertical-align: top;\n",
       "    }\n",
       "\n",
       "    .dataframe thead th {\n",
       "        text-align: right;\n",
       "    }\n",
       "</style>\n",
       "<table border=\"1\" class=\"dataframe\">\n",
       "  <thead>\n",
       "    <tr style=\"text-align: right;\">\n",
       "      <th></th>\n",
       "      <th>original paper</th>\n",
       "      <th>figure name</th>\n",
       "      <th>figure number</th>\n",
       "      <th>year</th>\n",
       "      <th>page number</th>\n",
       "      <th>image rotation</th>\n",
       "    </tr>\n",
       "  </thead>\n",
       "  <tbody>\n",
       "  </tbody>\n",
       "</table>\n",
       "</div>"
      ],
      "text/plain": [
       "Empty DataFrame\n",
       "Columns: [original paper, figure name, figure number, year, page number, image rotation]\n",
       "Index: []"
      ]
     },
     "execution_count": 5,
     "metadata": {},
     "output_type": "execute_result"
    }
   ],
   "source": [
    "figures_df"
   ]
  },
  {
   "cell_type": "code",
   "execution_count": 6,
   "metadata": {},
   "outputs": [
    {
     "data": {
      "text/html": [
       "<div>\n",
       "<style scoped>\n",
       "    .dataframe tbody tr th:only-of-type {\n",
       "        vertical-align: middle;\n",
       "    }\n",
       "\n",
       "    .dataframe tbody tr th {\n",
       "        vertical-align: top;\n",
       "    }\n",
       "\n",
       "    .dataframe thead th {\n",
       "        text-align: right;\n",
       "    }\n",
       "</style>\n",
       "<table border=\"1\" class=\"dataframe\">\n",
       "  <thead>\n",
       "    <tr style=\"text-align: right;\">\n",
       "      <th></th>\n",
       "      <th>original paper</th>\n",
       "      <th>year</th>\n",
       "    </tr>\n",
       "  </thead>\n",
       "  <tbody>\n",
       "  </tbody>\n",
       "</table>\n",
       "</div>"
      ],
      "text/plain": [
       "Empty DataFrame\n",
       "Columns: [original paper, year]\n",
       "Index: []"
      ]
     },
     "execution_count": 6,
     "metadata": {},
     "output_type": "execute_result"
    }
   ],
   "source": [
    "no_figures_df"
   ]
  }
 ],
 "metadata": {
  "kernelspec": {
   "display_name": "Python 3",
   "language": "python",
   "name": "python3"
  },
  "language_info": {
   "codemirror_mode": {
    "name": "ipython",
    "version": 3
   },
   "file_extension": ".py",
   "mimetype": "text/x-python",
   "name": "python",
   "nbconvert_exporter": "python",
   "pygments_lexer": "ipython3",
   "version": "3.9.18"
  }
 },
 "nbformat": 4,
 "nbformat_minor": 2
}

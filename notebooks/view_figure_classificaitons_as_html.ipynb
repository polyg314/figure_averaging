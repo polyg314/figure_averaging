{
 "cells": [
  {
   "cell_type": "code",
   "execution_count": 5,
   "metadata": {},
   "outputs": [],
   "source": [
    "import pandas as pd\n",
    "import matplotlib.pyplot as plt\n",
    "from PIL import Image\n",
    "import base64\n",
    "from io import BytesIO\n",
    "\n",
    "\n",
    "\n",
    "year = 2022\n",
    "\n",
    "cropped_and_labeled_df = pd.read_excel(f\"../cropped_and_labeled_image_data/{year}_cropped_and_labeled_figs.xlsx\")\n",
    "\n",
    "# Function to encode image as base64 for HTML embedding and format the display\n",
    "def get_image_html(image_path, subcategory, image_path_label):\n",
    "    buffered = BytesIO()\n",
    "    img = Image.open(image_path)\n",
    "    img.save(buffered, format=\"PNG\")\n",
    "    img_str = base64.b64encode(buffered.getvalue()).decode()\n",
    "    return f'''\n",
    "<div style=\"margin:10px; padding:10px; border-bottom:2px solid #ccc; width:100%;\">\n",
    "    <img src=\"data:image/png;base64,{img_str}\" style=\"display:block; margin:0 auto;\"/>\n",
    "    <p style=\"color:red; text-align:center;\">{subcategory}</p>\n",
    "    <p style=\"text-align:center;\">Image Path: {image_path_label}</p>\n",
    "</div>\n",
    "'''\n",
    "\n",
    "# Generate HTML content\n",
    "html_content = f'<html><head><title>{year} Image Classifications</title></head><body style=\"display:flex; flex-direction:column; align-items:center;\">'\n",
    "for index, row in cropped_and_labeled_df.iterrows():\n",
    "    image_path = \"../\" + row[\"new image path\"]\n",
    "    subcategory = row[\"subcategory\"]\n",
    "    image_path_label = row[\"new image path\"]\n",
    "    html_content += get_image_html(image_path, subcategory, image_path_label)\n",
    "html_content += '</body></html>'\n",
    "\n",
    "# Write HTML content to a file\n",
    "with open(f\"../image_classification_html_ouptuts/{year}_image_classifications.html\", \"w\") as file:\n",
    "    file.write(html_content)\n"
   ]
  }
 ],
 "metadata": {
  "kernelspec": {
   "display_name": "Python 3",
   "language": "python",
   "name": "python3"
  },
  "language_info": {
   "codemirror_mode": {
    "name": "ipython",
    "version": 3
   },
   "file_extension": ".py",
   "mimetype": "text/x-python",
   "name": "python",
   "nbconvert_exporter": "python",
   "pygments_lexer": "ipython3",
   "version": "3.9.18"
  }
 },
 "nbformat": 4,
 "nbformat_minor": 2
}

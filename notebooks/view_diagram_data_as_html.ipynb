{
 "cells": [
  {
   "cell_type": "code",
   "execution_count": 3,
   "metadata": {},
   "outputs": [],
   "source": [
    "import pandas as pd\n",
    "from PIL import Image\n",
    "import base64\n",
    "from io import BytesIO\n",
    "import os\n",
    "\n",
    "# Define the year and path to the diagram data\n",
    "year = 2022\n",
    "diagram_data_path = f\"../diagram_data/{year}_diagram_data.xlsx\"\n",
    "\n",
    "# Load the diagram data DataFrame\n",
    "diagram_data_df = pd.read_excel(diagram_data_path)\n",
    "\n",
    "# Function to encode image as base64 for HTML embedding and format the display\n",
    "def get_image_html(image_path, image_labels):\n",
    "    buffered = BytesIO()\n",
    "    img = Image.open(image_path)\n",
    "    img.save(buffered, format=\"PNG\")\n",
    "    img_str = base64.b64encode(buffered.getvalue()).decode()\n",
    "    labels_html = ''.join(f'<p>{label}: {value}</p>' for label, value in zip(image_labels.columns[1:], image_labels.values[0][1:]))\n",
    "    return f'''\n",
    "<div style=\"display:flex; width:100%; align-items:center; margin-bottom:20px;\">\n",
    "    <div style=\"width:20%;\">\n",
    "        {labels_html}\n",
    "    </div>\n",
    "    <div style=\"width:80%;\">\n",
    "        <img src=\"data:image/png;base64,{img_str}\" style=\"display:block; width:100%; height:auto;\"/>\n",
    "    </div>\n",
    "</div>\n",
    "'''\n",
    "\n",
    "# Generate HTML content\n",
    "html_content = f'<html><head><title>{year} Image Classifications</title></head><body>'\n",
    "for index, row in diagram_data_df.iterrows():\n",
    "    image_path = \"../\" + row[\"image path\"]  # Adjust the relative path as needed\n",
    "    image_labels = pd.DataFrame([row], columns=diagram_data_df.columns)\n",
    "    html_content += get_image_html(image_path, image_labels)\n",
    "html_content += '</body></html>'\n",
    "\n",
    "# Write HTML content to a file\n",
    "output_path = f\"../diagram_data_html_outputs/{year}_diagram_data.html\"\n",
    "os.makedirs(os.path.dirname(output_path), exist_ok=True)  # Ensure the directory exists\n",
    "with open(output_path, \"w\") as file:\n",
    "    file.write(html_content)\n"
   ]
  }
 ],
 "metadata": {
  "kernelspec": {
   "display_name": "Python 3",
   "language": "python",
   "name": "python3"
  },
  "language_info": {
   "codemirror_mode": {
    "name": "ipython",
    "version": 3
   },
   "file_extension": ".py",
   "mimetype": "text/x-python",
   "name": "python",
   "nbconvert_exporter": "python",
   "pygments_lexer": "ipython3",
   "version": "3.9.6"
  }
 },
 "nbformat": 4,
 "nbformat_minor": 2
}

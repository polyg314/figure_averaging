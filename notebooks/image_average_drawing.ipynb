{
 "cells": [
  {
   "cell_type": "code",
   "execution_count": 2,
   "metadata": {},
   "outputs": [
    {
     "data": {
      "image/png": "[encoded data removed]",
      "text/plain": [
       "<Figure size 640x480 with 1 Axes>"
      ]
     },
     "metadata": {},
     "output_type": "display_data"
    }
   ],
   "source": [
    "import matplotlib.pyplot as plt\n",
    "import matplotlib.patches as patches\n",
    "\n",
    "class Box:\n",
    "    def __init__(self, x, y, width, height, label):\n",
    "        self.x = x\n",
    "        self.y = y\n",
    "        self.width = width\n",
    "        self.height = height\n",
    "        self.label = label\n",
    "\n",
    "    def draw(self, ax):\n",
    "        ax.add_patch(patches.Rectangle((self.x, self.y), self.width, self.height, fill=None, edgecolor='black'))\n",
    "        ax.text(self.x + self.width / 2, self.y + self.height / 2, self.label, horizontalalignment='center', verticalalignment='center')\n",
    "\n",
    "class Arrow:\n",
    "    def __init__(self, start, end, label=\"\"):\n",
    "        self.start = start\n",
    "        self.end = end\n",
    "        self.label = label\n",
    "\n",
    "    def draw(self, ax):\n",
    "        ax.arrow(self.start[0], self.start[1], self.end[0] - self.start[0], self.end[1] - self.start[1], head_width=0.02, head_length=0.02, fc='k', ec='k')\n",
    "        if self.label:\n",
    "            mid_x = (self.start[0] + self.end[0]) / 2\n",
    "            mid_y = (self.start[1] + self.end[1]) / 2\n",
    "            ax.text(mid_x, mid_y, self.label, fontsize=9, verticalalignment='bottom')\n",
    "\n",
    "class Diagram:\n",
    "    def __init__(self):\n",
    "        self.elements = []\n",
    "\n",
    "    def add_box(self, x, y, width, height, label):\n",
    "        self.elements.append(Box(x, y, width, height, label))\n",
    "\n",
    "    def add_arrow(self, start, end, label=\"\"):\n",
    "        self.elements.append(Arrow(start, end, label))\n",
    "\n",
    "    def draw(self):\n",
    "        fig, ax = plt.subplots()\n",
    "        for element in self.elements:\n",
    "            element.draw(ax)\n",
    "        ax.set_xlim(0, 1)\n",
    "        ax.set_ylim(0, 1)\n",
    "        ax.set_aspect('equal')\n",
    "        ax.axis('off')  # Turn off the axis\n",
    "        plt.show()\n",
    "\n",
    "# Example usage:\n",
    "diagram = Diagram()\n",
    "diagram.add_box(0.1, 0.1, 0.2, 0.2, \"Box 1\")\n",
    "diagram.add_box(0.5, 0.1, 0.2, 0.2, \"Box 2\")\n",
    "diagram.add_arrow((0.3, 0.2), (0.5, 0.2), \"Directs\")\n",
    "diagram.draw()\n"
   ]
  }
 ],
 "metadata": {
  "kernelspec": {
   "display_name": "Python 3",
   "language": "python",
   "name": "python3"
  },
  "language_info": {
   "codemirror_mode": {
    "name": "ipython",
    "version": 3
   },
   "file_extension": ".py",
   "mimetype": "text/x-python",
   "name": "python",
   "nbconvert_exporter": "python",
   "pygments_lexer": "ipython3",
   "version": "3.9.6"
  }
 },
 "nbformat": 4,
 "nbformat_minor": 2
}

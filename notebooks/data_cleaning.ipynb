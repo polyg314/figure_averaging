{
 "cells": [
  {
   "cell_type": "code",
   "execution_count": 1,
   "metadata": {},
   "outputs": [],
   "source": [
    "import pandas as pd"
   ]
  },
  {
   "cell_type": "markdown",
   "metadata": {},
   "source": [
    "## To remove rows"
   ]
  },
  {
   "cell_type": "code",
   "execution_count": 2,
   "metadata": {},
   "outputs": [
    {
     "name": "stdout",
     "output_type": "stream",
     "text": [
      "(2, 9)\n",
      "(1, 9)\n",
      "Rows with the specified image path have been removed and the modified file is saved.\n"
     ]
    }
   ],
   "source": [
    "# Load the Excel file\n",
    "file_path = \"../cropped_and_labeled_image_data/2011_cropped_and_labeled_figs.xlsx\"\n",
    "df = pd.read_excel(file_path)\n",
    "print(df.shape)\n",
    "\n",
    "# Specify the path to filter out\n",
    "filter_path = \"F1_P9_Bryant & Jaworski_2011_HR_Gender embodiment and place.png\"\n",
    "\n",
    "# Filter the DataFrame\n",
    "df_filtered = df[df[\"figure name\"] != filter_path]\n",
    "print(df_filtered.shape)\n",
    "# Save the modified DataFrame back to Excel\n",
    "output_path = \"../cropped_and_labeled_image_data/2021_modified_cropped_and_labeled_figs.xlsx\"\n",
    "# df_filtered.to_excel(file_path, index=False)\n",
    "\n",
    "print(\"Rows with the specified image path have been removed and the modified file is saved.\")"
   ]
  }
 ],
 "metadata": {
  "kernelspec": {
   "display_name": "Python 3",
   "language": "python",
   "name": "python3"
  },
  "language_info": {
   "codemirror_mode": {
    "name": "ipython",
    "version": 3
   },
   "file_extension": ".py",
   "mimetype": "text/x-python",
   "name": "python",
   "nbconvert_exporter": "python",
   "pygments_lexer": "ipython3",
   "version": "3.9.18"
  }
 },
 "nbformat": 4,
 "nbformat_minor": 2
}

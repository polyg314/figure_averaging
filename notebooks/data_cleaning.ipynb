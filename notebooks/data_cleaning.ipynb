{
 "cells": [
  {
   "cell_type": "code",
   "execution_count": 3,
   "metadata": {},
   "outputs": [],
   "source": [
    "import pandas as pd"
   ]
  },
  {
   "cell_type": "markdown",
   "metadata": {},
   "source": [
    "## To remove rows"
   ]
  },
  {
   "cell_type": "code",
   "execution_count": 4,
   "metadata": {},
   "outputs": [
    {
     "name": "stdout",
     "output_type": "stream",
     "text": [
      "(36, 9)\n",
      "(35, 9)\n",
      "Rows with the specified image path have been removed and the modified file is saved.\n"
     ]
    }
   ],
   "source": [
    "# Load the Excel file\n",
    "file_path = \"../cropped_and_labeled_image_data/2000_cropped_and_labeled_figs.xlsx\"\n",
    "df = pd.read_excel(file_path)\n",
    "print(df.shape)\n",
    "\n",
    "# Specify the path to filter out\n",
    "filter_path = \"F6_P15_Maznevski & Chudoba_2000_OrgSci_Bridging Space over Time.png\"\n",
    "\n",
    "# Filter the DataFrame\n",
    "df_filtered = df[df[\"figure name\"] != filter_path]\n",
    "print(df_filtered.shape)\n",
    "# Save the modified DataFrame back to Excel\n",
    "output_path = \"../cropped_and_labeled_image_data/2000_modified_cropped_and_labeled_figs.xlsx\"\n",
    "# df_filtered.to_excel(file_path, index=False)\n",
    "\n",
    "print(\"Rows with the specified image path have been removed and the modified file is saved.\")"
   ]
  },
  {
   "cell_type": "markdown",
   "metadata": {},
   "source": [
    "## Subcategory renaming"
   ]
  },
  {
   "cell_type": "code",
   "execution_count": 9,
   "metadata": {},
   "outputs": [],
   "source": [
    "renaming_dict = {\n",
    "    \"photo\": \"photo(s)\",\n",
    "    \"drawing\": \"drawing(s)\",\n",
    "    \"mixed statistical plot (more than 1 statistical plot type)\": \"mixed statistical plot (more than 1 statistical plot and type)\",\n",
    "    \"bar chart\": \"bar chart(s)\", \n",
    "    \"line graph\": \"line graph(s)\",\n",
    "    \"scatter plot\": \"scatter plot(s)\",\n",
    "    \"pie chart\": \"pie chart(s)\",\n",
    "    \"stacked bar chart\" : \"stacked bar chart(s)\",\n",
    "    \"data collection, data analysis, data gathering diagrams\": \"data collection, data analysis, data gathering diagram\"\n",
    "}\n",
    "\n",
    "for year in range(2000, 2023):\n",
    "    # Load the Excel file for the current year\n",
    "    file_path = f\"../cropped_and_labeled_image_data/{year}_cropped_and_labeled_figs.xlsx\"\n",
    "    cropped_and_labeled_df = pd.read_excel(file_path)\n",
    "    \n",
    "    # Replace the values in the 'subcategory' column according to the renaming_dict\n",
    "    cropped_and_labeled_df['subcategory'] = cropped_and_labeled_df['subcategory'].replace(renaming_dict)\n",
    "    \n",
    "    # Drop the 'is_viewed' column from the DataFrame\n",
    "    if 'is_viewed' in cropped_and_labeled_df.columns:\n",
    "        cropped_and_labeled_df.drop('is_viewed', axis=1, inplace=True)\n",
    "        \n",
    "    # Save to excel\n",
    "    # cropped_and_labeled_df.to_excel(file_path, index=False)\n",
    "\n"
   ]
  }
 ],
 "metadata": {
  "kernelspec": {
   "display_name": "Python 3",
   "language": "python",
   "name": "python3"
  },
  "language_info": {
   "codemirror_mode": {
    "name": "ipython",
    "version": 3
   },
   "file_extension": ".py",
   "mimetype": "text/x-python",
   "name": "python",
   "nbconvert_exporter": "python",
   "pygments_lexer": "ipython3",
   "version": "3.9.18"
  }
 },
 "nbformat": 4,
 "nbformat_minor": 2
}

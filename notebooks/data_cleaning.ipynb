{
 "cells": [
  {
   "cell_type": "code",
   "execution_count": 7,
   "metadata": {},
   "outputs": [
    {
     "name": "stdout",
     "output_type": "stream",
     "text": [
      "(125, 9)\n",
      "(124, 9)\n",
      "Rows with the specified image path have been removed and the modified file is saved.\n"
     ]
    }
   ],
   "source": [
    "import pandas as pd"
   ]
  },
  {
   "cell_type": "markdown",
   "metadata": {},
   "source": [
    "## To remove rows"
   ]
  },
  {
   "cell_type": "code",
   "execution_count": null,
   "metadata": {},
   "outputs": [],
   "source": [
    "# Load the Excel file\n",
    "file_path = \"../cropped_and_labeled_image_data/2021_cropped_and_labeled_figs.xlsx\"\n",
    "df = pd.read_excel(file_path)\n",
    "print(df.shape)\n",
    "\n",
    "# Specify the path to filter out\n",
    "filter_path = \"F5_P11_Steigenberg & Lubcke_2021_OrgStudies_Space and sensemaking in high reliability task concepts.png\"\n",
    "\n",
    "# Filter the DataFrame\n",
    "df_filtered = df[df[\"figure name\"] != filter_path]\n",
    "print(df_filtered.shape)\n",
    "# Save the modified DataFrame back to Excel\n",
    "output_path = \"../cropped_and_labeled_image_data/2021_modified_cropped_and_labeled_figs.xlsx\"\n",
    "# df_filtered.to_excel(file_path, index=False)\n",
    "\n",
    "print(\"Rows with the specified image path have been removed and the modified file is saved.\")"
   ]
  }
 ],
 "metadata": {
  "kernelspec": {
   "display_name": "Python 3",
   "language": "python",
   "name": "python3"
  },
  "language_info": {
   "codemirror_mode": {
    "name": "ipython",
    "version": 3
   },
   "file_extension": ".py",
   "mimetype": "text/x-python",
   "name": "python",
   "nbconvert_exporter": "python",
   "pygments_lexer": "ipython3",
   "version": "3.9.18"
  }
 },
 "nbformat": 4,
 "nbformat_minor": 2
}
